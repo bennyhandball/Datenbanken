{
 "cells": [
  {
   "cell_type": "markdown",
   "metadata": {},
   "source": ["# Qdrant Vector DB Example\n", "Demonstration of using PyMuPDF (`fitz`) correctly."]
  },
  {
   "cell_type": "code",
   "execution_count": null,
   "metadata": {},
   "outputs": [],
   "source": ["import fitz  # PyMuPDF\n", "\n", "# Use fitz.open so the builtin open function isn't shadowed\n", "with fitz.open('example.pdf') as doc:\n", "    text = ''.join(page.get_text() for page in doc)\n", "\n", "text[:200]"]
  }
 ],
 "metadata": {
  "kernelspec": {"display_name": "Python 3", "language": "python", "name": "python3"},
  "language_info": {"name": "python", "version": "3.10"}
 },
 "nbformat": 4,
 "nbformat_minor": 5
}
