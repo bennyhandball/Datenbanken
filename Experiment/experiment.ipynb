{
 "cells": [
  {
   "cell_type": "markdown",
   "metadata": {},
   "source": [
    "# RAG Experiment\n",
    "\n",
    "This notebook runs two experiments:\n",
    "1. Query the LLM directly for a set of questions and store the answers.\n",
    "2. Load PDF documents into Qdrant and re-run the questions using retrieval augmented generation (RAG).\n"
   ]
  },
  {
   "cell_type": "code",
   "execution_count": 1,
   "metadata": {},
   "outputs": [
    {
     "name": "stderr",
     "output_type": "stream",
     "text": [
      "/Users/I545843/Documents/DHBW/4. Semester/Datenbanken/Datenbanken/.venv/lib/python3.9/site-packages/urllib3/__init__.py:35: NotOpenSSLWarning: urllib3 v2 only supports OpenSSL 1.1.1+, currently the 'ssl' module is compiled with 'LibreSSL 2.8.3'. See: https://github.com/urllib3/urllib3/issues/3020\n",
      "  warnings.warn(\n"
     ]
    }
   ],
   "source": [
    "import json\n",
    "from pathlib import Path\n",
    "\n",
    "from qdrant_utils import (\n",
    "    answer_with_context,\n",
    "    get_qdrant_client,\n",
  "    load_pdf_and_chunk,\n",
  "    embed_chunks,\n",
  "    store_embeddings_in_qdrant,\n",
  "    retrieve_similar_chunks,\n",
  ")\n",
    "\n",
    "from experiment_utils import (\n",
    "    load_processed_ids,\n",
    "    append_result_to_csv,\n",
    "    precision_n,\n",
    "    recall_n,\n",
    "    f1_n\n",
    ")\n",
    "\n",
    "DATA_PATH = 'question.json'\n",
    "PDF_DIR = Path('papers')\n",
    "GROUND_TRUTH_CSV = \"results_ground_truth.csv\"\n",
    "RAG_CSV = 'results_rag.csv'\n",
    "COLLECTION_NAME = 'rag_papers_test2'\n"
   ]
  },
  {
   "cell_type": "markdown",
   "metadata": {},
   "source": [
    "## Load evaluation questions\n",
    "The JSON file contains questions grouped by paper and additional metadata questions.\n",
    "We flatten them into a single list with their gold answers."
   ]
  },
  {
   "cell_type": "code",
   "execution_count": 2,
   "metadata": {},
   "outputs": [
    {
     "data": {
      "text/plain": [
       "35"
      ]
     },
     "execution_count": 2,
     "metadata": {},
     "output_type": "execute_result"
    }
   ],
   "source": [
    "with open(DATA_PATH, 'r', encoding='utf-8') as f:\n",
    "    data = json.load(f)['evaluation_dataset']\n",
    "\n",
    "questions = []\n",
    "# content questions per paper\n",
    "for paper in data['papers']:\n",
    "    for q in paper.get('questions', []):\n",
    "        questions.append({\n",
    "            'question_id': q['question_id'],\n",
    "            'question': q['question'],\n",
    "            'answer': q['answer']\n",
    "        })\n",
    "\n",
    "len(questions)\n"
   ]
  },
  {
   "cell_type": "markdown",
   "metadata": {},
   "source": [
    "## Experiment 1: direct LLM answers\n",
    "Each question is sent to the LLM without any additional context. The answers are saved to *results_ground_truth.csv*."
   ]
  },
  {
   "cell_type": "code",
   "execution_count": 3,
   "metadata": {},
   "outputs": [],
   "source": [
    "processed_ids = load_processed_ids(GROUND_TRUTH_CSV)\n",
    "\n",
    "for q in questions:\n",
    "    qid = q[\"question_id\"]\n",
    "    if qid in processed_ids:\n",
    "        continue\n",
    "\n",
    "    llm_answer = answer_with_context(q[\"question\"], [])\n",
    "    gold = q[\"answer\"]\n",
    "\n",
    "    # ROUGE-1\n",
    "    p1 = precision_n(llm_answer, gold, 1)\n",
    "    r1 = recall_n(llm_answer, gold, 1)\n",
    "    f1_1 = f1_n(p1, r1)\n",
    "\n",
    "    # ROUGE-2\n",
    "    p2 = precision_n(llm_answer, gold, 2)\n",
    "    r2 = recall_n(llm_answer, gold, 2)\n",
    "    f1_2 = f1_n(p2, r2)\n",
    "\n",
    "    row = {\n",
    "        \"question_id\": qid,\n",
    "        \"question_string\": q[\"question\"],\n",
    "        \"answer_llm\": llm_answer,\n",
    "        \"answer_gold\": gold,\n",
    "        \"precision-1\": p1,\n",
    "        \"recall-1\": r1,\n",
    "        \"ROUGE-1\": f1_1,\n",
    "        \"precision-2\": p2,\n",
    "        \"recall-2\": r2,\n",
    "        \"ROUGE-2\": f1_2,\n",
    "    }\n",
    "\n",
    "    append_result_to_csv(row, GROUND_TRUTH_CSV)\n",
    "    processed_ids.add(qid)  # avoid re-processing\n"
   ]
  },
  {
   "cell_type": "markdown",
   "metadata": {},
   "source": [
    "## Load PDF documents into Qdrant\n",
    "All PDF files are chunked, embedded and stored in the collection defined above."
   ]
  },
  {
   "cell_type": "code",
   "execution_count": 4,
   "metadata": {},
   "outputs": [],
   "source": [
    "client = get_qdrant_client()\n",
    "for pdf in PDF_DIR.glob('*.pdf'):\n",
    "    chunks = load_pdf_and_chunk(str(pdf))\n",
    "    embeddings = embed_chunks(chunks)\n",
    "    store_embeddings_in_qdrant(client, COLLECTION_NAME, chunks, embeddings)\n"
   ]
  },
  {
   "cell_type": "markdown",
   "metadata": {},
   "source": [
    "## Experiment 2: RAG answers\n",
    "For each question we retrieve relevant chunks from Qdrant and pass them to the LLM. Results are written to *results_rag.csv*."
   ]
  },
  {
   "cell_type": "code",
   "execution_count": null,
   "metadata": {},
   "outputs": [],
   "source": [
    "processed_ids = load_processed_ids(RAG_CSV)\n",
    "\n",
    "for q in questions:\n",
    "    qid = q[\"question_id\"]\n",
    "    if qid in processed_ids:\n",
    "        continue\n",
    "\n",
    "    context = retrieve_similar_chunks(q[\"question\"], client, COLLECTION_NAME, top_k=5)\n",
    "    llm_answer = answer_with_context(q[\"question\"], context)\n",
    "    gold = q[\"answer\"]\n",
    "\n",
    "    # ROUGE-1\n",
    "    p1 = precision_n(llm_answer, gold, 1)\n",
    "    r1 = recall_n(llm_answer, gold, 1)\n",
    "    f1_1 = f1_n(p1, r1)\n",
    "\n",
    "    # ROUGE-2\n",
    "    p2 = precision_n(llm_answer, gold, 2)\n",
    "    r2 = recall_n(llm_answer, gold, 2)\n",
    "    f1_2 = f1_n(p2, r2)\n",
    "\n",
    "    row = {\n",
    "        \"question_id\": qid,\n",
    "        \"question_string\": q[\"question\"],\n",
    "        \"answer_llm\": llm_answer,\n",
    "        \"answer_gold\": gold,\n",
    "        \"precision-1\": p1,\n",
    "        \"recall-1\": r1,\n",
    "        \"ROUGE-1\": f1_1,\n",
    "        \"precision-2\": p2,\n",
    "        \"recall-2\": r2,\n",
    "        \"ROUGE-2\": f1_2,\n",
    "    }\n",
    "\n",
    "    append_result_to_csv(row, RAG_CSV)\n",
    "    processed_ids.add(qid)  # avoid re-processing\n"
   ]
  }
 ],
 "metadata": {
  "kernelspec": {
   "display_name": ".venv",
   "language": "python",
   "name": "python3"
  },
  "language_info": {
   "codemirror_mode": {
    "name": "ipython",
    "version": 3
   },
   "file_extension": ".py",
   "mimetype": "text/x-python",
   "name": "python",
   "nbconvert_exporter": "python",
   "pygments_lexer": "ipython3",
   "version": "3.9.6"
  }
 },
 "nbformat": 4,
 "nbformat_minor": 5
}
